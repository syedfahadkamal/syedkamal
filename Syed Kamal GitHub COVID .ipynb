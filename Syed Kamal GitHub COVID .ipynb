{
 "cells": [
  {
   "cell_type": "code",
   "execution_count": 82,
   "id": "ae775004",
   "metadata": {},
   "outputs": [],
   "source": [
    "#First, we import the necessary libraries\n",
    "import pandas as pd\n",
    "import matplotlib.pyplot as plt\n",
    "import seaborn as sns\n",
    "from sklearn.cluster import KMeans\n",
    "from sklearn.linear_model import LinearRegression\n",
    "\n",
    "#Then, we load datasets\n",
    "df_vaccinations = pd.read_csv(\"country_vaccinations.csv\")\n",
    "df_manufacturer = pd.read_csv(\"country_vaccinations_by_manufacturer.csv\")"
   ]
  },
  {
   "cell_type": "code",
   "execution_count": 83,
   "id": "c30bac5b",
   "metadata": {},
   "outputs": [
    {
     "name": "stdout",
     "output_type": "stream",
     "text": [
      "COVID-19 World Vaccination Progress Dataset\n",
      "=\n",
      "The dataset provides information on the global vaccination progress against COVID-19.\n",
      "It consists of two main files: 'country_vaccinations.csv' and 'country_vaccinations_by_manufacturer.csv'.\n",
      "'country_vaccinations.csv' includes daily vaccination data and statistics by different vaccines used in various countries.\n",
      "'country_vaccinations_by_manufacturer.csv' provides details on the number of vaccine doses delivered by different manufacturers.\n",
      "\n",
      "\n",
      "Head of 'country_vaccinations.csv' dataset:\n",
      "============\n",
      "       country iso_code        date  total_vaccinations  people_vaccinated  \\\n",
      "0  Afghanistan      AFG  2021-02-22                 0.0                0.0   \n",
      "1  Afghanistan      AFG  2021-02-23                 NaN                NaN   \n",
      "2  Afghanistan      AFG  2021-02-24                 NaN                NaN   \n",
      "3  Afghanistan      AFG  2021-02-25                 NaN                NaN   \n",
      "4  Afghanistan      AFG  2021-02-26                 NaN                NaN   \n",
      "\n",
      "   people_fully_vaccinated  daily_vaccinations_raw  daily_vaccinations  \\\n",
      "0                      NaN                     NaN                 NaN   \n",
      "1                      NaN                     NaN              1367.0   \n",
      "2                      NaN                     NaN              1367.0   \n",
      "3                      NaN                     NaN              1367.0   \n",
      "4                      NaN                     NaN              1367.0   \n",
      "\n",
      "   total_vaccinations_per_hundred  people_vaccinated_per_hundred  \\\n",
      "0                             0.0                            0.0   \n",
      "1                             NaN                            NaN   \n",
      "2                             NaN                            NaN   \n",
      "3                             NaN                            NaN   \n",
      "4                             NaN                            NaN   \n",
      "\n",
      "   people_fully_vaccinated_per_hundred  daily_vaccinations_per_million  \\\n",
      "0                                  NaN                             NaN   \n",
      "1                                  NaN                            34.0   \n",
      "2                                  NaN                            34.0   \n",
      "3                                  NaN                            34.0   \n",
      "4                                  NaN                            34.0   \n",
      "\n",
      "                                            vaccines  \\\n",
      "0  Johnson&Johnson, Oxford/AstraZeneca, Pfizer/Bi...   \n",
      "1  Johnson&Johnson, Oxford/AstraZeneca, Pfizer/Bi...   \n",
      "2  Johnson&Johnson, Oxford/AstraZeneca, Pfizer/Bi...   \n",
      "3  Johnson&Johnson, Oxford/AstraZeneca, Pfizer/Bi...   \n",
      "4  Johnson&Johnson, Oxford/AstraZeneca, Pfizer/Bi...   \n",
      "\n",
      "                 source_name            source_website  \n",
      "0  World Health Organization  https://covid19.who.int/  \n",
      "1  World Health Organization  https://covid19.who.int/  \n",
      "2  World Health Organization  https://covid19.who.int/  \n",
      "3  World Health Organization  https://covid19.who.int/  \n",
      "4  World Health Organization  https://covid19.who.int/  \n",
      "\n",
      "\n"
     ]
    }
   ],
   "source": [
    "# Introducing the dataset for clarity and inaccuracies\n",
    "print(\"COVID-19 World Vaccination Progress Dataset\")\n",
    "print(\"=\")\n",
    "print(\"The dataset provides information on the global vaccination progress against COVID-19.\")\n",
    "print(\"It consists of two main files: 'country_vaccinations.csv' and 'country_vaccinations_by_manufacturer.csv'.\")\n",
    "print(\"'country_vaccinations.csv' includes daily vaccination data and statistics by different vaccines used in various countries.\")\n",
    "print(\"'country_vaccinations_by_manufacturer.csv' provides details on the number of vaccine doses delivered by different manufacturers.\")\n",
    "print(\"\\n\")\n",
    "\n",
    "# Showcasing 'country_vaccinations.csv' dataset\n",
    "print(\"Head of 'country_vaccinations.csv' dataset:\")\n",
    "print(\"============\")\n",
    "print(df_vaccinations.head())\n",
    "print(\"\\n\")"
   ]
  },
  {
   "cell_type": "code",
   "execution_count": 84,
   "id": "36472c78",
   "metadata": {},
   "outputs": [
    {
     "name": "stdout",
     "output_type": "stream",
     "text": [
      "Dataset Summary:\n",
      "\n"
     ]
    },
    {
     "data": {
      "image/png": "[encoded data removed]",
      "text/plain": [
       "<Figure size 720x432 with 1 Axes>"
      ]
     },
     "metadata": {
      "needs_background": "light"
     },
     "output_type": "display_data"
    }
   ],
   "source": [
    "# Dataset Graph\n",
    "print(\"Dataset Summary:\")\n",
    "print(\"\")\n",
    "df_summary = df_vaccinations[['country', 'total_vaccinations', 'people_vaccinated', 'people_fully_vaccinated']].dropna()\n",
    "df_summary = df_summary.groupby('country').sum().reset_index()\n",
    "plt.figure(figsize=(10, 6))\n",
    "plt.bar(df_summary['country'], df_summary['total_vaccinations'])\n",
    "plt.xlabel('Country')\n",
    "plt.ylabel('Total Vaccinations')\n",
    "plt.title('Total Vaccinations by Country')\n",
    "plt.xticks(rotation=90)\n",
    "plt.show()"
   ]
  },
  {
   "cell_type": "code",
   "execution_count": 85,
   "id": "6e914f56",
   "metadata": {
    "scrolled": true
   },
   "outputs": [
    {
     "name": "stderr",
     "output_type": "stream",
     "text": [
      "C:\\Users\\Syed Fahad\\anaconda3\\lib\\site-packages\\plotly\\express\\_core.py:1637: FutureWarning:\n",
      "\n",
      "The frame.append method is deprecated and will be removed from pandas in a future version. Use pandas.concat instead.\n",
      "\n"
     ]
    },
    {
     "data": {
      "application/vnd.plotly.v1+json": {
       "config": {
        "plotlyServerURL": "https://plot.ly"
       },
       "data": [
        {
         "branchvalues": "total",
         "customdata": [
          [
           109980460
          ],
          [
           279486787
          ],
          [
           228881369.99999997
          ],
          [
           2378178
          ],
          [
           371400819
          ],
          [
           702483
          ],
          [
           6414875
          ],
          [
           18678951288
          ],
          [
           32797522
          ],
          [
           38528732
          ],
          [
           9733091438
          ],
          [
           596758436
          ],
          [
           2236909006
          ],
          [
           6983077
          ],
          [
           777473760
          ],
          [
           13087912310
          ],
          [
           73177558
          ],
          [
           188291176
          ],
          [
           5762414960
          ],
          [
           19803826
          ],
          [
           24246282
          ],
          [
           3919460
          ],
          [
           44324574
          ],
          [
           2228306009
          ],
          [
           43236
          ],
          [
           13550064
          ],
          [
           23805892
          ],
          [
           77434683256
          ],
          [
           1019142
          ],
          [
           61803429
          ],
          [
           182871666
          ],
          [
           18077509
          ],
          [
           127309
          ],
          [
           6971897941
          ],
          [
           25244845
          ],
          [
           18228200647
          ],
          [
           16315132
          ],
          [
           8256041
          ],
          [
           9806448
          ],
          [
           6978549
          ],
          [
           11769443984
          ],
          [
           48587024000
          ],
          [
           8209707262
          ],
          [
           9521198
          ],
          [
           10326657
          ],
          [
           444497
          ],
          [
           265381901.99999997
          ],
          [
           130089016
          ],
          [
           867407828.9999999
          ],
          [
           6317083017
          ],
          [
           51697419
          ],
          [
           163692379
          ],
          [
           4168644067
          ],
          [
           10661974
          ],
          [
           3032063883
          ],
          [
           1788221
          ],
          [
           3147969
          ],
          [
           3554281293
          ],
          [
           6187503271.000001
          ],
          [
           1768493637
          ],
          [
           860011938
          ],
          [
           31037114023
          ],
          [
           23238018
          ],
          [
           487453125
          ],
          [
           10335679
          ],
          [
           140685906
          ],
          [
           8612023
          ],
          [
           8729
          ],
          [
           41410440
          ],
          [
           460273329
          ],
          [
           32177027974
          ],
          [
           10743345
          ],
          [
           6363193
          ],
          [
           6323968
          ],
          [
           369773868
          ],
          [
           38982830332
          ],
          [
           87767731
          ],
          [
           17354638
          ],
          [
           4448539614
          ],
          [
           6163497
          ],
          [
           3013719
          ],
          [
           1953622872.9999998
          ],
          [
           342673
          ],
          [
           202891557
          ],
          [
           12365315
          ],
          [
           58146585
          ],
          [
           4984429
          ],
          [
           150511882
          ],
          [
           2676377359
          ],
          [
           776459796
          ],
          [
           50367320
          ],
          [
           323342119648
          ],
          [
           45213625127
          ],
          [
           10694339403
          ],
          [
           481181096
          ],
          [
           2468578495
          ],
          [
           26865518
          ],
          [
           5743375433
          ],
          [
           29712702055
          ],
          [
           184985059
          ],
          [
           29277954926
          ],
          [
           13560674
          ],
          [
           1183884194
          ],
          [
           3585414930
          ],
          [
           1314467671
          ],
          [
           1003437
          ],
          [
           280703911
          ],
          [
           176504396
          ],
          [
           366790870
          ],
          [
           302507172
          ],
          [
           623486523
          ],
          [
           969098687
          ],
          [
           5836071
          ],
          [
           6024313
          ],
          [
           195094469.99999997
          ],
          [
           16361077
          ],
          [
           1113683787
          ],
          [
           3757692
          ],
          [
           148628961
          ],
          [
           11987504
          ],
          [
           252841221
          ],
          [
           13297513692
          ],
          [
           177223906
          ],
          [
           26699633
          ],
          [
           297290749
          ],
          [
           67358978
          ],
          [
           43027571
          ],
          [
           28347806503.999996
          ],
          [
           48350343
          ],
          [
           864904
          ],
          [
           1073839332
          ],
          [
           139364311
          ],
          [
           95256
          ],
          [
           4837219083
          ],
          [
           409985072
          ],
          [
           1059134989
          ],
          [
           26994392
          ],
          [
           95946
          ],
          [
           2380437379
          ],
          [
           1116426891
          ],
          [
           11616439
          ],
          [
           1834291113
          ],
          [
           177904245
          ],
          [
           20283849
          ],
          [
           676623277
          ],
          [
           10357
          ],
          [
           126621088.99999999
          ],
          [
           6072790
          ],
          [
           953157405
          ],
          [
           2560975120
          ],
          [
           133254134
          ],
          [
           14886575976
          ],
          [
           33934570
          ],
          [
           242567656
          ],
          [
           9710227
          ],
          [
           402096080
          ],
          [
           10520125027
          ],
          [
           932305161
          ],
          [
           254
          ],
          [
           11035885465
          ],
          [
           2034675724
          ],
          [
           392631899.99999994
          ],
          [
           1544445383
          ],
          [
           26755289790
          ],
          [
           165917035
          ],
          [
           17719
          ],
          [
           2676784
          ],
          [
           12367398
          ],
          [
           3900838
          ],
          [
           4935444
          ],
          [
           1796538
          ],
          [
           2509356
          ],
          [
           10391703030
          ],
          [
           2995364072
          ],
          [
           44804589
          ],
          [
           1087724534
          ],
          [
           8048151
          ],
          [
           16174881
          ],
          [
           3164194477
          ],
          [
           2096270
          ],
          [
           254636075
          ],
          [
           736698744
          ],
          [
           4847306
          ],
          [
           31312352
          ],
          [
           3837851724
          ],
          [
           21831406035
          ],
          [
           5907619
          ],
          [
           13675279335
          ],
          [
           6543990962
          ],
          [
           41531132
          ],
          [
           69143426
          ],
          [
           741235101
          ],
          [
           3695330150
          ],
          [
           32238585
          ],
          [
           5574103726
          ],
          [
           158315672
          ],
          [
           22839948
          ],
          [
           20018259276
          ],
          [
           31337328
          ],
          [
           40078281
          ],
          [
           1936
          ],
          [
           1943138
          ],
          [
           316171933
          ],
          [
           2031063035
          ],
          [
           33873363514
          ],
          [
           15213698
          ],
          [
           1016487
          ],
          [
           41956
          ],
          [
           135988396
          ],
          [
           4357247435
          ],
          [
           2252853848
          ],
          [
           36851641768
          ],
          [
           155013867208
          ],
          [
           1973340264
          ],
          [
           665459268
          ],
          [
           2167907
          ],
          [
           417488184
          ],
          [
           7352751366
          ],
          [
           1810193186
          ],
          [
           336241
          ],
          [
           9250675
          ],
          [
           26986225
          ],
          [
           1588198276
          ]
         ],
         "domain": {
          "x": [
           0,
           1
          ],
          "y": [
           0,
           1
          ]
         },
         "hovertemplate": "labels=%{label}<br>total_vaccinations_sum=%{value}<br>parent=%{parent}<br>id=%{id}<br>total_vaccinations=%{color}<extra></extra>",
         "ids": [
          "Afghanistan",
          "Albania",
          "Algeria",
          "Andorra",
          "Angola",
          "Anguilla",
          "Antigua and Barbuda",
          "Argentina",
          "Armenia",
          "Aruba",
          "Australia",
          "Austria",
          "Azerbaijan",
          "Bahamas",
          "Bahrain",
          "Bangladesh",
          "Barbados",
          "Belarus",
          "Belgium",
          "Belize",
          "Benin",
          "Bermuda",
          "Bhutan",
          "Bolivia",
          "Bonaire Sint Eustatius and Saba",
          "Bosnia and Herzegovina",
          "Botswana",
          "Brazil",
          "British Virgin Islands",
          "Brunei",
          "Bulgaria",
          "Burkina Faso",
          "Burundi",
          "Cambodia",
          "Cameroon",
          "Canada",
          "Cape Verde",
          "Cayman Islands",
          "Central African Republic",
          "Chad",
          "Chile",
          "China",
          "Colombia",
          "Comoros",
          "Congo",
          "Cook Islands",
          "Costa Rica",
          "Cote d'Ivoire",
          "Croatia",
          "Cuba",
          "Curacao",
          "Cyprus",
          "Czechia",
          "Democratic Republic of Congo",
          "Denmark",
          "Djibouti",
          "Dominica",
          "Dominican Republic",
          "Ecuador",
          "Egypt",
          "El Salvador",
          "England",
          "Equatorial Guinea",
          "Estonia",
          "Eswatini",
          "Ethiopia",
          "Faeroe Islands",
          "Falkland Islands",
          "Fiji",
          "Finland",
          "France",
          "French Polynesia",
          "Gabon",
          "Gambia",
          "Georgia",
          "Germany",
          "Ghana",
          "Gibraltar",
          "Greece",
          "Greenland",
          "Grenada",
          "Guatemala",
          "Guernsey",
          "Guinea",
          "Guinea-Bissau",
          "Guyana",
          "Haiti",
          "Honduras",
          "Hong Kong",
          "Hungary",
          "Iceland",
          "India",
          "Indonesia",
          "Iran",
          "Iraq",
          "Ireland",
          "Isle of Man",
          "Israel",
          "Italy",
          "Jamaica",
          "Japan",
          "Jersey",
          "Jordan",
          "Kazakhstan",
          "Kenya",
          "Kiribati",
          "Kosovo",
          "Kuwait",
          "Kyrgyzstan",
          "Laos",
          "Latvia",
          "Lebanon",
          "Lesotho",
          "Liberia",
          "Libya",
          "Liechtenstein",
          "Lithuania",
          "Luxembourg",
          "Macao",
          "Madagascar",
          "Malawi",
          "Malaysia",
          "Maldives",
          "Mali",
          "Malta",
          "Mauritania",
          "Mauritius",
          "Mexico",
          "Moldova",
          "Monaco",
          "Mongolia",
          "Montenegro",
          "Montserrat",
          "Morocco",
          "Mozambique",
          "Myanmar",
          "Namibia",
          "Nauru",
          "Nepal",
          "Netherlands",
          "New Caledonia",
          "New Zealand",
          "Nicaragua",
          "Niger",
          "Nigeria",
          "Niue",
          "North Macedonia",
          "Northern Cyprus",
          "Northern Ireland",
          "Norway",
          "Oman",
          "Pakistan",
          "Palestine",
          "Panama",
          "Papua New Guinea",
          "Paraguay",
          "Peru",
          "Philippines",
          "Pitcairn",
          "Poland",
          "Portugal",
          "Qatar",
          "Romania",
          "Russia",
          "Rwanda",
          "Saint Helena",
          "Saint Kitts and Nevis",
          "Saint Lucia",
          "Saint Vincent and the Grenadines",
          "Samoa",
          "San Marino",
          "Sao Tome and Principe",
          "Saudi Arabia",
          "Scotland",
          "Senegal",
          "Serbia",
          "Seychelles",
          "Sierra Leone",
          "Singapore",
          "Sint Maarten (Dutch part)",
          "Slovakia",
          "Slovenia",
          "Solomon Islands",
          "Somalia",
          "South Africa",
          "South Korea",
          "South Sudan",
          "Spain",
          "Sri Lanka",
          "Sudan",
          "Suriname",
          "Sweden",
          "Switzerland",
          "Syria",
          "Taiwan",
          "Tajikistan",
          "Tanzania",
          "Thailand",
          "Timor",
          "Togo",
          "Tokelau",
          "Tonga",
          "Trinidad and Tobago",
          "Tunisia",
          "Turkey",
          "Turkmenistan",
          "Turks and Caicos Islands",
          "Tuvalu",
          "Uganda",
          "Ukraine",
          "United Arab Emirates",
          "United Kingdom",
          "United States",
          "Uruguay",
          "Uzbekistan",
          "Vanuatu",
          "Venezuela",
          "Vietnam",
          "Wales",
          "Wallis and Futuna",
          "Yemen",
          "Zambia",
          "Zimbabwe"
         ],
         "labels": [
          "Afghanistan",
          "Albania",
          "Algeria",
          "Andorra",
          "Angola",
          "Anguilla",
          "Antigua and Barbuda",
          "Argentina",
          "Armenia",
          "Aruba",
          "Australia",
          "Austria",
          "Azerbaijan",
          "Bahamas",
          "Bahrain",
          "Bangladesh",
          "Barbados",
          "Belarus",
          "Belgium",
          "Belize",
          "Benin",
          "Bermuda",
          "Bhutan",
          "Bolivia",
          "Bonaire Sint Eustatius and Saba",
          "Bosnia and Herzegovina",
          "Botswana",
          "Brazil",
          "British Virgin Islands",
          "Brunei",
          "Bulgaria",
          "Burkina Faso",
          "Burundi",
          "Cambodia",
          "Cameroon",
          "Canada",
          "Cape Verde",
          "Cayman Islands",
          "Central African Republic",
          "Chad",
          "Chile",
          "China",
          "Colombia",
          "Comoros",
          "Congo",
          "Cook Islands",
          "Costa Rica",
          "Cote d'Ivoire",
          "Croatia",
          "Cuba",
          "Curacao",
          "Cyprus",
          "Czechia",
          "Democratic Republic of Congo",
          "Denmark",
          "Djibouti",
          "Dominica",
          "Dominican Republic",
          "Ecuador",
          "Egypt",
          "El Salvador",
          "England",
          "Equatorial Guinea",
          "Estonia",
          "Eswatini",
          "Ethiopia",
          "Faeroe Islands",
          "Falkland Islands",
          "Fiji",
          "Finland",
          "France",
          "French Polynesia",
          "Gabon",
          "Gambia",
          "Georgia",
          "Germany",
          "Ghana",
          "Gibraltar",
          "Greece",
          "Greenland",
          "Grenada",
          "Guatemala",
          "Guernsey",
          "Guinea",
          "Guinea-Bissau",
          "Guyana",
          "Haiti",
          "Honduras",
          "Hong Kong",
          "Hungary",
          "Iceland",
          "India",
          "Indonesia",
          "Iran",
          "Iraq",
          "Ireland",
          "Isle of Man",
          "Israel",
          "Italy",
          "Jamaica",
          "Japan",
          "Jersey",
          "Jordan",
          "Kazakhstan",
          "Kenya",
          "Kiribati",
          "Kosovo",
          "Kuwait",
          "Kyrgyzstan",
          "Laos",
          "Latvia",
          "Lebanon",
          "Lesotho",
          "Liberia",
          "Libya",
          "Liechtenstein",
          "Lithuania",
          "Luxembourg",
          "Macao",
          "Madagascar",
          "Malawi",
          "Malaysia",
          "Maldives",
          "Mali",
          "Malta",
          "Mauritania",
          "Mauritius",
          "Mexico",
          "Moldova",
          "Monaco",
          "Mongolia",
          "Montenegro",
          "Montserrat",
          "Morocco",
          "Mozambique",
          "Myanmar",
          "Namibia",
          "Nauru",
          "Nepal",
          "Netherlands",
          "New Caledonia",
          "New Zealand",
          "Nicaragua",
          "Niger",
          "Nigeria",
          "Niue",
          "North Macedonia",
          "Northern Cyprus",
          "Northern Ireland",
          "Norway",
          "Oman",
          "Pakistan",
          "Palestine",
          "Panama",
          "Papua New Guinea",
          "Paraguay",
          "Peru",
          "Philippines",
          "Pitcairn",
          "Poland",
          "Portugal",
          "Qatar",
          "Romania",
          "Russia",
          "Rwanda",
          "Saint Helena",
          "Saint Kitts and Nevis",
          "Saint Lucia",
          "Saint Vincent and the Grenadines",
          "Samoa",
          "San Marino",
          "Sao Tome and Principe",
          "Saudi Arabia",
          "Scotland",
          "Senegal",
          "Serbia",
          "Seychelles",
          "Sierra Leone",
          "Singapore",
          "Sint Maarten (Dutch part)",
          "Slovakia",
          "Slovenia",
          "Solomon Islands",
          "Somalia",
          "South Africa",
          "South Korea",
          "South Sudan",
          "Spain",
          "Sri Lanka",
          "Sudan",
          "Suriname",
          "Sweden",
          "Switzerland",
          "Syria",
          "Taiwan",
          "Tajikistan",
          "Tanzania",
          "Thailand",
          "Timor",
          "Togo",
          "Tokelau",
          "Tonga",
          "Trinidad and Tobago",
          "Tunisia",
          "Turkey",
          "Turkmenistan",
          "Turks and Caicos Islands",
          "Tuvalu",
          "Uganda",
          "Ukraine",
          "United Arab Emirates",
          "United Kingdom",
          "United States",
          "Uruguay",
          "Uzbekistan",
          "Vanuatu",
          "Venezuela",
          "Vietnam",
          "Wales",
          "Wallis and Futuna",
          "Yemen",
          "Zambia",
          "Zimbabwe"
         ],
         "marker": {
          "coloraxis": "coloraxis",
          "colors": [
           109980460,
           279486787,
           228881369.99999997,
           2378178,
           371400819,
           702483,
           6414875,
           18678951288,
           32797522,
           38528732,
           9733091438,
           596758436,
           2236909006,
           6983077,
           777473760,
           13087912310,
           73177558,
           188291176,
           5762414960,
           19803826,
           24246282,
           3919460,
           44324574,
           2228306009,
           43236,
           13550064,
           23805892,
           77434683256,
           1019142,
           61803429,
           182871666,
           18077509,
           127309,
           6971897941,
           25244845,
           18228200647,
           16315132,
           8256041,
           9806448,
           6978549,
           11769443984,
           48587024000,
           8209707262,
           9521198,
           10326657,
           444497,
           265381901.99999997,
           130089016,
           867407828.9999999,
           6317083017,
           51697419,
           163692379,
           4168644067,
           10661974,
           3032063883,
           1788221,
           3147969,
           3554281293,
           6187503271.000001,
           1768493637,
           860011938,
           31037114023,
           23238018,
           487453125,
           10335679,
           140685906,
           8612023,
           8729,
           41410440,
           460273329,
           32177027974,
           10743345,
           6363193,
           6323968,
           369773868,
           38982830332,
           87767731,
           17354638,
           4448539614,
           6163497,
           3013719,
           1953622872.9999998,
           342673,
           202891557,
           12365315,
           58146585,
           4984429,
           150511882,
           2676377359,
           776459796,
           50367320,
           323342119648,
           45213625127,
           10694339403,
           481181096,
           2468578495,
           26865518,
           5743375433,
           29712702055,
           184985059,
           29277954926,
           13560674,
           1183884194,
           3585414930,
           1314467671,
           1003437,
           280703911,
           176504396,
           366790870,
           302507172,
           623486523,
           969098687,
           5836071,
           6024313,
           195094469.99999997,
           16361077,
           1113683787,
           3757692,
           148628961,
           11987504,
           252841221,
           13297513692,
           177223906,
           26699633,
           297290749,
           67358978,
           43027571,
           28347806503.999996,
           48350343,
           864904,
           1073839332,
           139364311,
           95256,
           4837219083,
           409985072,
           1059134989,
           26994392,
           95946,
           2380437379,
           1116426891,
           11616439,
           1834291113,
           177904245,
           20283849,
           676623277,
           10357,
           126621088.99999999,
           6072790,
           953157405,
           2560975120,
           133254134,
           14886575976,
           33934570,
           242567656,
           9710227,
           402096080,
           10520125027,
           932305161,
           254,
           11035885465,
           2034675724,
           392631899.99999994,
           1544445383,
           26755289790,
           165917035,
           17719,
           2676784,
           12367398,
           3900838,
           4935444,
           1796538,
           2509356,
           10391703030,
           2995364072,
           44804589,
           1087724534,
           8048151,
           16174881,
           3164194477,
           2096270,
           254636075,
           736698744,
           4847306,
           31312352,
           3837851724,
           21831406035,
           5907619,
           13675279335,
           6543990962,
           41531132,
           69143426,
           741235101,
           3695330150,
           32238585,
           5574103726,
           158315672,
           22839948,
           20018259276,
           31337328,
           40078281,
           1936,
           1943138,
           316171933,
           2031063035,
           33873363514,
           15213698,
           1016487,
           41956,
           135988396,
           4357247435,
           2252853848,
           36851641768,
           155013867208,
           1973340264,
           665459268,
           2167907,
           417488184,
           7352751366,
           1810193186,
           336241,
           9250675,
           26986225,
           1588198276
          ]
         },
         "name": "",
         "parents": [
          "",
          "",
          "",
          "",
          "",
          "",
          "",
          "",
          "",
          "",
          "",
          "",
          "",
          "",
          "",
          "",
          "",
          "",
          "",
          "",
          "",
          "",
          "",
          "",
          "",
          "",
          "",
          "",
          "",
          "",
          "",
          "",
          "",
          "",
          "",
          "",
          "",
          "",
          "",
          "",
          "",
          "",
          "",
          "",
          "",
          "",
          "",
          "",
          "",
          "",
          "",
          "",
          "",
          "",
          "",
          "",
          "",
          "",
          "",
          "",
          "",
          "",
          "",
          "",
          "",
          "",
          "",
          "",
          "",
          "",
          "",
          "",
          "",
          "",
          "",
          "",
          "",
          "",
          "",
          "",
          "",
          "",
          "",
          "",
          "",
          "",
          "",
          "",
          "",
          "",
          "",
          "",
          "",
          "",
          "",
          "",
          "",
          "",
          "",
          "",
          "",
          "",
          "",
          "",
          "",
          "",
          "",
          "",
          "",
          "",
          "",
          "",
          "",
          "",
          "",
          "",
          "",
          "",
          "",
          "",
          "",
          "",
          "",
          "",
          "",
          "",
          "",
          "",
          "",
          "",
          "",
          "",
          "",
          "",
          "",
          "",
          "",
          "",
          "",
          "",
          "",
          "",
          "",
          "",
          "",
          "",
          "",
          "",
          "",
          "",
          "",
          "",
          "",
          "",
          "",
          "",
          "",
          "",
          "",
          "",
          "",
          "",
          "",
          "",
          "",
          "",
          "",
          "",
          "",
          "",
          "",
          "",
          "",
          "",
          "",
          "",
          "",
          "",
          "",
          "",
          "",
          "",
          "",
          "",
          "",
          "",
          "",
          "",
          "",
          "",
          "",
          "",
          "",
          "",
          "",
          "",
          "",
          "",
          "",
          "",
          "",
          "",
          "",
          "",
          "",
          "",
          "",
          "",
          "",
          "",
          "",
          "",
          "",
          "",
          "",
          "",
          "",
          "",
          "",
          "",
          "",
          "",
          ""
         ],
         "type": "treemap",
         "values": [
          109980460,
          279486787,
          228881370,
          2378178,
          371400819,
          702483,
          6414875,
          18678951288,
          32797522,
          38528732,
          9733091438,
          596758436,
          2236909006,
          6983077,
          777473760,
          13087912310,
          73177558,
          188291176,
          5762414960,
          19803826,
          24246282,
          3919460,
          44324574,
          2228306009,
          43236,
          13550064,
          23805892,
          77434683256,
          1019142,
          61803429,
          182871666,
          18077509,
          127309,
          6971897941,
          25244845,
          18228200647,
          16315132,
          8256041,
          9806448,
          6978549,
          11769443984,
          48587024000,
          8209707262,
          9521198,
          10326657,
          444497,
          265381902,
          130089016,
          867407829,
          6317083017,
          51697419,
          163692379,
          4168644067,
          10661974,
          3032063883,
          1788221,
          3147969,
          3554281293,
          6187503271,
          1768493637,
          860011938,
          31037114023,
          23238018,
          487453125,
          10335679,
          140685906,
          8612023,
          8729,
          41410440,
          460273329,
          32177027974,
          10743345,
          6363193,
          6323968,
          369773868,
          38982830332,
          87767731,
          17354638,
          4448539614,
          6163497,
          3013719,
          1953622873,
          342673,
          202891557,
          12365315,
          58146585,
          4984429,
          150511882,
          2676377359,
          776459796,
          50367320,
          323342119648,
          45213625127,
          10694339403,
          481181096,
          2468578495,
          26865518,
          5743375433,
          29712702055,
          184985059,
          29277954926,
          13560674,
          1183884194,
          3585414930,
          1314467671,
          1003437,
          280703911,
          176504396,
          366790870,
          302507172,
          623486523,
          969098687,
          5836071,
          6024313,
          195094470,
          16361077,
          1113683787,
          3757692,
          148628961,
          11987504,
          252841221,
          13297513692,
          177223906,
          26699633,
          297290749,
          67358978,
          43027571,
          28347806504,
          48350343,
          864904,
          1073839332,
          139364311,
          95256,
          4837219083,
          409985072,
          1059134989,
          26994392,
          95946,
          2380437379,
          1116426891,
          11616439,
          1834291113,
          177904245,
          20283849,
          676623277,
          10357,
          126621089,
          6072790,
          953157405,
          2560975120,
          133254134,
          14886575976,
          33934570,
          242567656,
          9710227,
          402096080,
          10520125027,
          932305161,
          254,
          11035885465,
          2034675724,
          392631900,
          1544445383,
          26755289790,
          165917035,
          17719,
          2676784,
          12367398,
          3900838,
          4935444,
          1796538,
          2509356,
          10391703030,
          2995364072,
          44804589,
          1087724534,
          8048151,
          16174881,
          3164194477,
          2096270,
          254636075,
          736698744,
          4847306,
          31312352,
          3837851724,
          21831406035,
          5907619,
          13675279335,
          6543990962,
          41531132,
          69143426,
          741235101,
          3695330150,
          32238585,
          5574103726,
          158315672,
          22839948,
          20018259276,
          31337328,
          40078281,
          1936,
          1943138,
          316171933,
          2031063035,
          33873363514,
          15213698,
          1016487,
          41956,
          135988396,
          4357247435,
          2252853848,
          36851641768,
          155013867208,
          1973340264,
          665459268,
          2167907,
          417488184,
          7352751366,
          1810193186,
          336241,
          9250675,
          26986225,
          1588198276
         ]
        }
       ],
       "layout": {
        "coloraxis": {
         "colorbar": {
          "title": {
           "text": "total_vaccinations"
          }
         },
         "colorscale": [
          [
           0,
           "rgb(247,251,255)"
          ],
          [
           0.125,
           "rgb(222,235,247)"
          ],
          [
           0.25,
           "rgb(198,219,239)"
          ],
          [
           0.375,
           "rgb(158,202,225)"
          ],
          [
           0.5,
           "rgb(107,174,214)"
          ],
          [
           0.625,
           "rgb(66,146,198)"
          ],
          [
           0.75,
           "rgb(33,113,181)"
          ],
          [
           0.875,
           "rgb(8,81,156)"
          ],
          [
           1,
           "rgb(8,48,107)"
          ]
         ]
        },
        "legend": {
         "tracegroupgap": 0
        },
        "template": {
         "data": {
          "bar": [
           {
            "error_x": {
             "color": "#2a3f5f"
            },
            "error_y": {
             "color": "#2a3f5f"
            },
            "marker": {
             "line": {
              "color": "#E5ECF6",
              "width": 0.5
             },
             "pattern": {
              "fillmode": "overlay",
              "size": 10,
              "solidity": 0.2
             }
            },
            "type": "bar"
           }
          ],
          "barpolar": [
           {
            "marker": {
             "line": {
              "color": "#E5ECF6",
              "width": 0.5
             },
             "pattern": {
              "fillmode": "overlay",
              "size": 10,
              "solidity": 0.2
             }
            },
            "type": "barpolar"
           }
          ],
          "carpet": [
           {
            "aaxis": {
             "endlinecolor": "#2a3f5f",
             "gridcolor": "white",
             "linecolor": "white",
             "minorgridcolor": "white",
             "startlinecolor": "#2a3f5f"
            },
            "baxis": {
             "endlinecolor": "#2a3f5f",
             "gridcolor": "white",
             "linecolor": "white",
             "minorgridcolor": "white",
             "startlinecolor": "#2a3f5f"
            },
            "type": "carpet"
           }
          ],
          "choropleth": [
           {
            "colorbar": {
             "outlinewidth": 0,
             "ticks": ""
            },
            "type": "choropleth"
           }
          ],
          "contour": [
           {
            "colorbar": {
             "outlinewidth": 0,
             "ticks": ""
            },
            "colorscale": [
             [
              0,
              "#0d0887"
             ],
             [
              0.1111111111111111,
              "#46039f"
             ],
             [
              0.2222222222222222,
              "#7201a8"
             ],
             [
              0.3333333333333333,
              "#9c179e"
             ],
             [
              0.4444444444444444,
              "#bd3786"
             ],
             [
              0.5555555555555556,
              "#d8576b"
             ],
             [
              0.6666666666666666,
              "#ed7953"
             ],
             [
              0.7777777777777778,
              "#fb9f3a"
             ],
             [
              0.8888888888888888,
              "#fdca26"
             ],
             [
              1,
              "#f0f921"
             ]
            ],
            "type": "contour"
           }
          ],
          "contourcarpet": [
           {
            "colorbar": {
             "outlinewidth": 0,
             "ticks": ""
            },
            "type": "contourcarpet"
           }
          ],
          "heatmap": [
           {
            "colorbar": {
             "outlinewidth": 0,
             "ticks": ""
            },
            "colorscale": [
             [
              0,
              "#0d0887"
             ],
             [
              0.1111111111111111,
              "#46039f"
             ],
             [
              0.2222222222222222,
              "#7201a8"
             ],
             [
              0.3333333333333333,
              "#9c179e"
             ],
             [
              0.4444444444444444,
              "#bd3786"
             ],
             [
              0.5555555555555556,
              "#d8576b"
             ],
             [
              0.6666666666666666,
              "#ed7953"
             ],
             [
              0.7777777777777778,
              "#fb9f3a"
             ],
             [
              0.8888888888888888,
              "#fdca26"
             ],
             [
              1,
              "#f0f921"
             ]
            ],
            "type": "heatmap"
           }
          ],
          "heatmapgl": [
           {
            "colorbar": {
             "outlinewidth": 0,
             "ticks": ""
            },
            "colorscale": [
             [
              0,
              "#0d0887"
             ],
             [
              0.1111111111111111,
              "#46039f"
             ],
             [
              0.2222222222222222,
              "#7201a8"
             ],
             [
              0.3333333333333333,
              "#9c179e"
             ],
             [
              0.4444444444444444,
              "#bd3786"
             ],
             [
              0.5555555555555556,
              "#d8576b"
             ],
             [
              0.6666666666666666,
              "#ed7953"
             ],
             [
              0.7777777777777778,
              "#fb9f3a"
             ],
             [
              0.8888888888888888,
              "#fdca26"
             ],
             [
              1,
              "#f0f921"
             ]
            ],
            "type": "heatmapgl"
           }
          ],
          "histogram": [
           {
            "marker": {
             "pattern": {
              "fillmode": "overlay",
              "size": 10,
              "solidity": 0.2
             }
            },
            "type": "histogram"
           }
          ],
          "histogram2d": [
           {
            "colorbar": {
             "outlinewidth": 0,
             "ticks": ""
            },
            "colorscale": [
             [
              0,
              "#0d0887"
             ],
             [
              0.1111111111111111,
              "#46039f"
             ],
             [
              0.2222222222222222,
              "#7201a8"
             ],
             [
              0.3333333333333333,
              "#9c179e"
             ],
             [
              0.4444444444444444,
              "#bd3786"
             ],
             [
              0.5555555555555556,
              "#d8576b"
             ],
             [
              0.6666666666666666,
              "#ed7953"
             ],
             [
              0.7777777777777778,
              "#fb9f3a"
             ],
             [
              0.8888888888888888,
              "#fdca26"
             ],
             [
              1,
              "#f0f921"
             ]
            ],
            "type": "histogram2d"
           }
          ],
          "histogram2dcontour": [
           {
            "colorbar": {
             "outlinewidth": 0,
             "ticks": ""
            },
            "colorscale": [
             [
              0,
              "#0d0887"
             ],
             [
              0.1111111111111111,
              "#46039f"
             ],
             [
              0.2222222222222222,
              "#7201a8"
             ],
             [
              0.3333333333333333,
              "#9c179e"
             ],
             [
              0.4444444444444444,
              "#bd3786"
             ],
             [
              0.5555555555555556,
              "#d8576b"
             ],
             [
              0.6666666666666666,
              "#ed7953"
             ],
             [
              0.7777777777777778,
              "#fb9f3a"
             ],
             [
              0.8888888888888888,
              "#fdca26"
             ],
             [
              1,
              "#f0f921"
             ]
            ],
            "type": "histogram2dcontour"
           }
          ],
          "mesh3d": [
           {
            "colorbar": {
             "outlinewidth": 0,
             "ticks": ""
            },
            "type": "mesh3d"
           }
          ],
          "parcoords": [
           {
            "line": {
             "colorbar": {
              "outlinewidth": 0,
              "ticks": ""
             }
            },
            "type": "parcoords"
           }
          ],
          "pie": [
           {
            "automargin": true,
            "type": "pie"
           }
          ],
          "scatter": [
           {
            "marker": {
             "colorbar": {
              "outlinewidth": 0,
              "ticks": ""
             }
            },
            "type": "scatter"
           }
          ],
          "scatter3d": [
           {
            "line": {
             "colorbar": {
              "outlinewidth": 0,
              "ticks": ""
             }
            },
            "marker": {
             "colorbar": {
              "outlinewidth": 0,
              "ticks": ""
             }
            },
            "type": "scatter3d"
           }
          ],
          "scattercarpet": [
           {
            "marker": {
             "colorbar": {
              "outlinewidth": 0,
              "ticks": ""
             }
            },
            "type": "scattercarpet"
           }
          ],
          "scattergeo": [
           {
            "marker": {
             "colorbar": {
              "outlinewidth": 0,
              "ticks": ""
             }
            },
            "type": "scattergeo"
           }
          ],
          "scattergl": [
           {
            "marker": {
             "colorbar": {
              "outlinewidth": 0,
              "ticks": ""
             }
            },
            "type": "scattergl"
           }
          ],
          "scattermapbox": [
           {
            "marker": {
             "colorbar": {
              "outlinewidth": 0,
              "ticks": ""
             }
            },
            "type": "scattermapbox"
           }
          ],
          "scatterpolar": [
           {
            "marker": {
             "colorbar": {
              "outlinewidth": 0,
              "ticks": ""
             }
            },
            "type": "scatterpolar"
           }
          ],
          "scatterpolargl": [
           {
            "marker": {
             "colorbar": {
              "outlinewidth": 0,
              "ticks": ""
             }
            },
            "type": "scatterpolargl"
           }
          ],
          "scatterternary": [
           {
            "marker": {
             "colorbar": {
              "outlinewidth": 0,
              "ticks": ""
             }
            },
            "type": "scatterternary"
           }
          ],
          "surface": [
           {
            "colorbar": {
             "outlinewidth": 0,
             "ticks": ""
            },
            "colorscale": [
             [
              0,
              "#0d0887"
             ],
             [
              0.1111111111111111,
              "#46039f"
             ],
             [
              0.2222222222222222,
              "#7201a8"
             ],
             [
              0.3333333333333333,
              "#9c179e"
             ],
             [
              0.4444444444444444,
              "#bd3786"
             ],
             [
              0.5555555555555556,
              "#d8576b"
             ],
             [
              0.6666666666666666,
              "#ed7953"
             ],
             [
              0.7777777777777778,
              "#fb9f3a"
             ],
             [
              0.8888888888888888,
              "#fdca26"
             ],
             [
              1,
              "#f0f921"
             ]
            ],
            "type": "surface"
           }
          ],
          "table": [
           {
            "cells": {
             "fill": {
              "color": "#EBF0F8"
             },
             "line": {
              "color": "white"
             }
            },
            "header": {
             "fill": {
              "color": "#C8D4E3"
             },
             "line": {
              "color": "white"
             }
            },
            "type": "table"
           }
          ]
         },
         "layout": {
          "annotationdefaults": {
           "arrowcolor": "#2a3f5f",
           "arrowhead": 0,
           "arrowwidth": 1
          },
          "autotypenumbers": "strict",
          "coloraxis": {
           "colorbar": {
            "outlinewidth": 0,
            "ticks": ""
           }
          },
          "colorscale": {
           "diverging": [
            [
             0,
             "#8e0152"
            ],
            [
             0.1,
             "#c51b7d"
            ],
            [
             0.2,
             "#de77ae"
            ],
            [
             0.3,
             "#f1b6da"
            ],
            [
             0.4,
             "#fde0ef"
            ],
            [
             0.5,
             "#f7f7f7"
            ],
            [
             0.6,
             "#e6f5d0"
            ],
            [
             0.7,
             "#b8e186"
            ],
            [
             0.8,
             "#7fbc41"
            ],
            [
             0.9,
             "#4d9221"
            ],
            [
             1,
             "#276419"
            ]
           ],
           "sequential": [
            [
             0,
             "#0d0887"
            ],
            [
             0.1111111111111111,
             "#46039f"
            ],
            [
             0.2222222222222222,
             "#7201a8"
            ],
            [
             0.3333333333333333,
             "#9c179e"
            ],
            [
             0.4444444444444444,
             "#bd3786"
            ],
            [
             0.5555555555555556,
             "#d8576b"
            ],
            [
             0.6666666666666666,
             "#ed7953"
            ],
            [
             0.7777777777777778,
             "#fb9f3a"
            ],
            [
             0.8888888888888888,
             "#fdca26"
            ],
            [
             1,
             "#f0f921"
            ]
           ],
           "sequentialminus": [
            [
             0,
             "#0d0887"
            ],
            [
             0.1111111111111111,
             "#46039f"
            ],
            [
             0.2222222222222222,
             "#7201a8"
            ],
            [
             0.3333333333333333,
             "#9c179e"
            ],
            [
             0.4444444444444444,
             "#bd3786"
            ],
            [
             0.5555555555555556,
             "#d8576b"
            ],
            [
             0.6666666666666666,
             "#ed7953"
            ],
            [
             0.7777777777777778,
             "#fb9f3a"
            ],
            [
             0.8888888888888888,
             "#fdca26"
            ],
            [
             1,
             "#f0f921"
            ]
           ]
          },
          "colorway": [
           "#636efa",
           "#EF553B",
           "#00cc96",
           "#ab63fa",
           "#FFA15A",
           "#19d3f3",
           "#FF6692",
           "#B6E880",
           "#FF97FF",
           "#FECB52"
          ],
          "font": {
           "color": "#2a3f5f"
          },
          "geo": {
           "bgcolor": "white",
           "lakecolor": "white",
           "landcolor": "#E5ECF6",
           "showlakes": true,
           "showland": true,
           "subunitcolor": "white"
          },
          "hoverlabel": {
           "align": "left"
          },
          "hovermode": "closest",
          "mapbox": {
           "style": "light"
          },
          "paper_bgcolor": "white",
          "plot_bgcolor": "#E5ECF6",
          "polar": {
           "angularaxis": {
            "gridcolor": "white",
            "linecolor": "white",
            "ticks": ""
           },
           "bgcolor": "#E5ECF6",
           "radialaxis": {
            "gridcolor": "white",
            "linecolor": "white",
            "ticks": ""
           }
          },
          "scene": {
           "xaxis": {
            "backgroundcolor": "#E5ECF6",
            "gridcolor": "white",
            "gridwidth": 2,
            "linecolor": "white",
            "showbackground": true,
            "ticks": "",
            "zerolinecolor": "white"
           },
           "yaxis": {
            "backgroundcolor": "#E5ECF6",
            "gridcolor": "white",
            "gridwidth": 2,
            "linecolor": "white",
            "showbackground": true,
            "ticks": "",
            "zerolinecolor": "white"
           },
           "zaxis": {
            "backgroundcolor": "#E5ECF6",
            "gridcolor": "white",
            "gridwidth": 2,
            "linecolor": "white",
            "showbackground": true,
            "ticks": "",
            "zerolinecolor": "white"
           }
          },
          "shapedefaults": {
           "line": {
            "color": "#2a3f5f"
           }
          },
          "ternary": {
           "aaxis": {
            "gridcolor": "white",
            "linecolor": "white",
            "ticks": ""
           },
           "baxis": {
            "gridcolor": "white",
            "linecolor": "white",
            "ticks": ""
           },
           "bgcolor": "#E5ECF6",
           "caxis": {
            "gridcolor": "white",
            "linecolor": "white",
            "ticks": ""
           }
          },
          "title": {
           "x": 0.05
          },
          "xaxis": {
           "automargin": true,
           "gridcolor": "white",
           "linecolor": "white",
           "ticks": "",
           "title": {
            "standoff": 15
           },
           "zerolinecolor": "white",
           "zerolinewidth": 2
          },
          "yaxis": {
           "automargin": true,
           "gridcolor": "white",
           "linecolor": "white",
           "ticks": "",
           "title": {
            "standoff": 15
           },
           "zerolinecolor": "white",
           "zerolinewidth": 2
          }
         }
        },
        "title": {
         "text": "Total Vaccinations by Country (Treemap)"
        }
       }
      },
      "text/html": [
       "<div>                            <div id=\"c7f70fe6-702e-4e73-a906-d9e35b4d53bd\" class=\"plotly-graph-div\" style=\"height:525px; width:100%;\"></div>            <script type=\"text/javascript\">                require([\"plotly\"], function(Plotly) {                    window.PLOTLYENV=window.PLOTLYENV || {};                                    if (document.getElementById(\"c7f70fe6-702e-4e73-a906-d9e35b4d53bd\")) {                    Plotly.newPlot(                        \"c7f70fe6-702e-4e73-a906-d9e35b4d53bd\",                        [{\"branchvalues\":\"total\",\"customdata\":[[109980460.0],[279486787.0],[228881369.99999997],[2378178.0],[371400819.0],[702483.0],[6414875.0],[18678951288.0],[32797522.0],[38528732.0],[9733091438.0],[596758436.0],[2236909006.0],[6983077.0],[777473760.0],[13087912310.0],[73177558.0],[188291176.0],[5762414960.0],[19803826.0],[24246282.0],[3919460.0],[44324574.0],[2228306009.0],[43236.0],[13550064.0],[23805892.0],[77434683256.0],[1019142.0],[61803429.0],[182871666.0],[18077509.0],[127309.0],[6971897941.0],[25244845.0],[18228200647.0],[16315132.0],[8256041.0],[9806448.0],[6978549.0],[11769443984.0],[48587024000.0],[8209707262.0],[9521198.0],[10326657.0],[444497.0],[265381901.99999997],[130089016.0],[867407828.9999999],[6317083017.0],[51697419.0],[163692379.0],[4168644067.0],[10661974.0],[3032063883.0],[1788221.0],[3147969.0],[3554281293.0],[6187503271.000001],[1768493637.0],[860011938.0],[31037114023.0],[23238018.0],[487453125.0],[10335679.0],[140685906.0],[8612023.0],[8729.0],[41410440.0],[460273329.0],[32177027974.0],[10743345.0],[6363193.0],[6323968.0],[369773868.0],[38982830332.0],[87767731.0],[17354638.0],[4448539614.0],[6163497.0],[3013719.0],[1953622872.9999998],[342673.0],[202891557.0],[12365315.0],[58146585.0],[4984429.0],[150511882.0],[2676377359.0],[776459796.0],[50367320.0],[323342119648.0],[45213625127.0],[10694339403.0],[481181096.0],[2468578495.0],[26865518.0],[5743375433.0],[29712702055.0],[184985059.0],[29277954926.0],[13560674.0],[1183884194.0],[3585414930.0],[1314467671.0],[1003437.0],[280703911.0],[176504396.0],[366790870.0],[302507172.0],[623486523.0],[969098687.0],[5836071.0],[6024313.0],[195094469.99999997],[16361077.0],[1113683787.0],[3757692.0],[148628961.0],[11987504.0],[252841221.0],[13297513692.0],[177223906.0],[26699633.0],[297290749.0],[67358978.0],[43027571.0],[28347806503.999996],[48350343.0],[864904.0],[1073839332.0],[139364311.0],[95256.0],[4837219083.0],[409985072.0],[1059134989.0],[26994392.0],[95946.0],[2380437379.0],[1116426891.0],[11616439.0],[1834291113.0],[177904245.0],[20283849.0],[676623277.0],[10357.0],[126621088.99999999],[6072790.0],[953157405.0],[2560975120.0],[133254134.0],[14886575976.0],[33934570.0],[242567656.0],[9710227.0],[402096080.0],[10520125027.0],[932305161.0],[254.0],[11035885465.0],[2034675724.0],[392631899.99999994],[1544445383.0],[26755289790.0],[165917035.0],[17719.0],[2676784.0],[12367398.0],[3900838.0],[4935444.0],[1796538.0],[2509356.0],[10391703030.0],[2995364072.0],[44804589.0],[1087724534.0],[8048151.0],[16174881.0],[3164194477.0],[2096270.0],[254636075.0],[736698744.0],[4847306.0],[31312352.0],[3837851724.0],[21831406035.0],[5907619.0],[13675279335.0],[6543990962.0],[41531132.0],[69143426.0],[741235101.0],[3695330150.0],[32238585.0],[5574103726.0],[158315672.0],[22839948.0],[20018259276.0],[31337328.0],[40078281.0],[1936.0],[1943138.0],[316171933.0],[2031063035.0],[33873363514.0],[15213698.0],[1016487.0],[41956.0],[135988396.0],[4357247435.0],[2252853848.0],[36851641768.0],[155013867208.0],[1973340264.0],[665459268.0],[2167907.0],[417488184.0],[7352751366.0],[1810193186.0],[336241.0],[9250675.0],[26986225.0],[1588198276.0]],\"domain\":{\"x\":[0.0,1.0],\"y\":[0.0,1.0]},\"hovertemplate\":\"labels=%{label}<br>total_vaccinations_sum=%{value}<br>parent=%{parent}<br>id=%{id}<br>total_vaccinations=%{color}<extra></extra>\",\"ids\":[\"Afghanistan\",\"Albania\",\"Algeria\",\"Andorra\",\"Angola\",\"Anguilla\",\"Antigua and Barbuda\",\"Argentina\",\"Armenia\",\"Aruba\",\"Australia\",\"Austria\",\"Azerbaijan\",\"Bahamas\",\"Bahrain\",\"Bangladesh\",\"Barbados\",\"Belarus\",\"Belgium\",\"Belize\",\"Benin\",\"Bermuda\",\"Bhutan\",\"Bolivia\",\"Bonaire Sint Eustatius and Saba\",\"Bosnia and Herzegovina\",\"Botswana\",\"Brazil\",\"British Virgin Islands\",\"Brunei\",\"Bulgaria\",\"Burkina Faso\",\"Burundi\",\"Cambodia\",\"Cameroon\",\"Canada\",\"Cape Verde\",\"Cayman Islands\",\"Central African Republic\",\"Chad\",\"Chile\",\"China\",\"Colombia\",\"Comoros\",\"Congo\",\"Cook Islands\",\"Costa Rica\",\"Cote d'Ivoire\",\"Croatia\",\"Cuba\",\"Curacao\",\"Cyprus\",\"Czechia\",\"Democratic Republic of Congo\",\"Denmark\",\"Djibouti\",\"Dominica\",\"Dominican Republic\",\"Ecuador\",\"Egypt\",\"El Salvador\",\"England\",\"Equatorial Guinea\",\"Estonia\",\"Eswatini\",\"Ethiopia\",\"Faeroe Islands\",\"Falkland Islands\",\"Fiji\",\"Finland\",\"France\",\"French Polynesia\",\"Gabon\",\"Gambia\",\"Georgia\",\"Germany\",\"Ghana\",\"Gibraltar\",\"Greece\",\"Greenland\",\"Grenada\",\"Guatemala\",\"Guernsey\",\"Guinea\",\"Guinea-Bissau\",\"Guyana\",\"Haiti\",\"Honduras\",\"Hong Kong\",\"Hungary\",\"Iceland\",\"India\",\"Indonesia\",\"Iran\",\"Iraq\",\"Ireland\",\"Isle of Man\",\"Israel\",\"Italy\",\"Jamaica\",\"Japan\",\"Jersey\",\"Jordan\",\"Kazakhstan\",\"Kenya\",\"Kiribati\",\"Kosovo\",\"Kuwait\",\"Kyrgyzstan\",\"Laos\",\"Latvia\",\"Lebanon\",\"Lesotho\",\"Liberia\",\"Libya\",\"Liechtenstein\",\"Lithuania\",\"Luxembourg\",\"Macao\",\"Madagascar\",\"Malawi\",\"Malaysia\",\"Maldives\",\"Mali\",\"Malta\",\"Mauritania\",\"Mauritius\",\"Mexico\",\"Moldova\",\"Monaco\",\"Mongolia\",\"Montenegro\",\"Montserrat\",\"Morocco\",\"Mozambique\",\"Myanmar\",\"Namibia\",\"Nauru\",\"Nepal\",\"Netherlands\",\"New Caledonia\",\"New Zealand\",\"Nicaragua\",\"Niger\",\"Nigeria\",\"Niue\",\"North Macedonia\",\"Northern Cyprus\",\"Northern Ireland\",\"Norway\",\"Oman\",\"Pakistan\",\"Palestine\",\"Panama\",\"Papua New Guinea\",\"Paraguay\",\"Peru\",\"Philippines\",\"Pitcairn\",\"Poland\",\"Portugal\",\"Qatar\",\"Romania\",\"Russia\",\"Rwanda\",\"Saint Helena\",\"Saint Kitts and Nevis\",\"Saint Lucia\",\"Saint Vincent and the Grenadines\",\"Samoa\",\"San Marino\",\"Sao Tome and Principe\",\"Saudi Arabia\",\"Scotland\",\"Senegal\",\"Serbia\",\"Seychelles\",\"Sierra Leone\",\"Singapore\",\"Sint Maarten (Dutch part)\",\"Slovakia\",\"Slovenia\",\"Solomon Islands\",\"Somalia\",\"South Africa\",\"South Korea\",\"South Sudan\",\"Spain\",\"Sri Lanka\",\"Sudan\",\"Suriname\",\"Sweden\",\"Switzerland\",\"Syria\",\"Taiwan\",\"Tajikistan\",\"Tanzania\",\"Thailand\",\"Timor\",\"Togo\",\"Tokelau\",\"Tonga\",\"Trinidad and Tobago\",\"Tunisia\",\"Turkey\",\"Turkmenistan\",\"Turks and Caicos Islands\",\"Tuvalu\",\"Uganda\",\"Ukraine\",\"United Arab Emirates\",\"United Kingdom\",\"United States\",\"Uruguay\",\"Uzbekistan\",\"Vanuatu\",\"Venezuela\",\"Vietnam\",\"Wales\",\"Wallis and Futuna\",\"Yemen\",\"Zambia\",\"Zimbabwe\"],\"labels\":[\"Afghanistan\",\"Albania\",\"Algeria\",\"Andorra\",\"Angola\",\"Anguilla\",\"Antigua and Barbuda\",\"Argentina\",\"Armenia\",\"Aruba\",\"Australia\",\"Austria\",\"Azerbaijan\",\"Bahamas\",\"Bahrain\",\"Bangladesh\",\"Barbados\",\"Belarus\",\"Belgium\",\"Belize\",\"Benin\",\"Bermuda\",\"Bhutan\",\"Bolivia\",\"Bonaire Sint Eustatius and Saba\",\"Bosnia and Herzegovina\",\"Botswana\",\"Brazil\",\"British Virgin Islands\",\"Brunei\",\"Bulgaria\",\"Burkina Faso\",\"Burundi\",\"Cambodia\",\"Cameroon\",\"Canada\",\"Cape Verde\",\"Cayman Islands\",\"Central African Republic\",\"Chad\",\"Chile\",\"China\",\"Colombia\",\"Comoros\",\"Congo\",\"Cook Islands\",\"Costa Rica\",\"Cote d'Ivoire\",\"Croatia\",\"Cuba\",\"Curacao\",\"Cyprus\",\"Czechia\",\"Democratic Republic of Congo\",\"Denmark\",\"Djibouti\",\"Dominica\",\"Dominican Republic\",\"Ecuador\",\"Egypt\",\"El Salvador\",\"England\",\"Equatorial Guinea\",\"Estonia\",\"Eswatini\",\"Ethiopia\",\"Faeroe Islands\",\"Falkland Islands\",\"Fiji\",\"Finland\",\"France\",\"French Polynesia\",\"Gabon\",\"Gambia\",\"Georgia\",\"Germany\",\"Ghana\",\"Gibraltar\",\"Greece\",\"Greenland\",\"Grenada\",\"Guatemala\",\"Guernsey\",\"Guinea\",\"Guinea-Bissau\",\"Guyana\",\"Haiti\",\"Honduras\",\"Hong Kong\",\"Hungary\",\"Iceland\",\"India\",\"Indonesia\",\"Iran\",\"Iraq\",\"Ireland\",\"Isle of Man\",\"Israel\",\"Italy\",\"Jamaica\",\"Japan\",\"Jersey\",\"Jordan\",\"Kazakhstan\",\"Kenya\",\"Kiribati\",\"Kosovo\",\"Kuwait\",\"Kyrgyzstan\",\"Laos\",\"Latvia\",\"Lebanon\",\"Lesotho\",\"Liberia\",\"Libya\",\"Liechtenstein\",\"Lithuania\",\"Luxembourg\",\"Macao\",\"Madagascar\",\"Malawi\",\"Malaysia\",\"Maldives\",\"Mali\",\"Malta\",\"Mauritania\",\"Mauritius\",\"Mexico\",\"Moldova\",\"Monaco\",\"Mongolia\",\"Montenegro\",\"Montserrat\",\"Morocco\",\"Mozambique\",\"Myanmar\",\"Namibia\",\"Nauru\",\"Nepal\",\"Netherlands\",\"New Caledonia\",\"New Zealand\",\"Nicaragua\",\"Niger\",\"Nigeria\",\"Niue\",\"North Macedonia\",\"Northern Cyprus\",\"Northern Ireland\",\"Norway\",\"Oman\",\"Pakistan\",\"Palestine\",\"Panama\",\"Papua New Guinea\",\"Paraguay\",\"Peru\",\"Philippines\",\"Pitcairn\",\"Poland\",\"Portugal\",\"Qatar\",\"Romania\",\"Russia\",\"Rwanda\",\"Saint Helena\",\"Saint Kitts and Nevis\",\"Saint Lucia\",\"Saint Vincent and the Grenadines\",\"Samoa\",\"San Marino\",\"Sao Tome and Principe\",\"Saudi Arabia\",\"Scotland\",\"Senegal\",\"Serbia\",\"Seychelles\",\"Sierra Leone\",\"Singapore\",\"Sint Maarten (Dutch part)\",\"Slovakia\",\"Slovenia\",\"Solomon Islands\",\"Somalia\",\"South Africa\",\"South Korea\",\"South Sudan\",\"Spain\",\"Sri Lanka\",\"Sudan\",\"Suriname\",\"Sweden\",\"Switzerland\",\"Syria\",\"Taiwan\",\"Tajikistan\",\"Tanzania\",\"Thailand\",\"Timor\",\"Togo\",\"Tokelau\",\"Tonga\",\"Trinidad and Tobago\",\"Tunisia\",\"Turkey\",\"Turkmenistan\",\"Turks and Caicos Islands\",\"Tuvalu\",\"Uganda\",\"Ukraine\",\"United Arab Emirates\",\"United Kingdom\",\"United States\",\"Uruguay\",\"Uzbekistan\",\"Vanuatu\",\"Venezuela\",\"Vietnam\",\"Wales\",\"Wallis and Futuna\",\"Yemen\",\"Zambia\",\"Zimbabwe\"],\"marker\":{\"coloraxis\":\"coloraxis\",\"colors\":[109980460.0,279486787.0,228881369.99999997,2378178.0,371400819.0,702483.0,6414875.0,18678951288.0,32797522.0,38528732.0,9733091438.0,596758436.0,2236909006.0,6983077.0,777473760.0,13087912310.0,73177558.0,188291176.0,5762414960.0,19803826.0,24246282.0,3919460.0,44324574.0,2228306009.0,43236.0,13550064.0,23805892.0,77434683256.0,1019142.0,61803429.0,182871666.0,18077509.0,127309.0,6971897941.0,25244845.0,18228200647.0,16315132.0,8256041.0,9806448.0,6978549.0,11769443984.0,48587024000.0,8209707262.0,9521198.0,10326657.0,444497.0,265381901.99999997,130089016.0,867407828.9999999,6317083017.0,51697419.0,163692379.0,4168644067.0,10661974.0,3032063883.0,1788221.0,3147969.0,3554281293.0,6187503271.000001,1768493637.0,860011938.0,31037114023.0,23238018.0,487453125.0,10335679.0,140685906.0,8612023.0,8729.0,41410440.0,460273329.0,32177027974.0,10743345.0,6363193.0,6323968.0,369773868.0,38982830332.0,87767731.0,17354638.0,4448539614.0,6163497.0,3013719.0,1953622872.9999998,342673.0,202891557.0,12365315.0,58146585.0,4984429.0,150511882.0,2676377359.0,776459796.0,50367320.0,323342119648.0,45213625127.0,10694339403.0,481181096.0,2468578495.0,26865518.0,5743375433.0,29712702055.0,184985059.0,29277954926.0,13560674.0,1183884194.0,3585414930.0,1314467671.0,1003437.0,280703911.0,176504396.0,366790870.0,302507172.0,623486523.0,969098687.0,5836071.0,6024313.0,195094469.99999997,16361077.0,1113683787.0,3757692.0,148628961.0,11987504.0,252841221.0,13297513692.0,177223906.0,26699633.0,297290749.0,67358978.0,43027571.0,28347806503.999996,48350343.0,864904.0,1073839332.0,139364311.0,95256.0,4837219083.0,409985072.0,1059134989.0,26994392.0,95946.0,2380437379.0,1116426891.0,11616439.0,1834291113.0,177904245.0,20283849.0,676623277.0,10357.0,126621088.99999999,6072790.0,953157405.0,2560975120.0,133254134.0,14886575976.0,33934570.0,242567656.0,9710227.0,402096080.0,10520125027.0,932305161.0,254.0,11035885465.0,2034675724.0,392631899.99999994,1544445383.0,26755289790.0,165917035.0,17719.0,2676784.0,12367398.0,3900838.0,4935444.0,1796538.0,2509356.0,10391703030.0,2995364072.0,44804589.0,1087724534.0,8048151.0,16174881.0,3164194477.0,2096270.0,254636075.0,736698744.0,4847306.0,31312352.0,3837851724.0,21831406035.0,5907619.0,13675279335.0,6543990962.0,41531132.0,69143426.0,741235101.0,3695330150.0,32238585.0,5574103726.0,158315672.0,22839948.0,20018259276.0,31337328.0,40078281.0,1936.0,1943138.0,316171933.0,2031063035.0,33873363514.0,15213698.0,1016487.0,41956.0,135988396.0,4357247435.0,2252853848.0,36851641768.0,155013867208.0,1973340264.0,665459268.0,2167907.0,417488184.0,7352751366.0,1810193186.0,336241.0,9250675.0,26986225.0,1588198276.0]},\"name\":\"\",\"parents\":[\"\",\"\",\"\",\"\",\"\",\"\",\"\",\"\",\"\",\"\",\"\",\"\",\"\",\"\",\"\",\"\",\"\",\"\",\"\",\"\",\"\",\"\",\"\",\"\",\"\",\"\",\"\",\"\",\"\",\"\",\"\",\"\",\"\",\"\",\"\",\"\",\"\",\"\",\"\",\"\",\"\",\"\",\"\",\"\",\"\",\"\",\"\",\"\",\"\",\"\",\"\",\"\",\"\",\"\",\"\",\"\",\"\",\"\",\"\",\"\",\"\",\"\",\"\",\"\",\"\",\"\",\"\",\"\",\"\",\"\",\"\",\"\",\"\",\"\",\"\",\"\",\"\",\"\",\"\",\"\",\"\",\"\",\"\",\"\",\"\",\"\",\"\",\"\",\"\",\"\",\"\",\"\",\"\",\"\",\"\",\"\",\"\",\"\",\"\",\"\",\"\",\"\",\"\",\"\",\"\",\"\",\"\",\"\",\"\",\"\",\"\",\"\",\"\",\"\",\"\",\"\",\"\",\"\",\"\",\"\",\"\",\"\",\"\",\"\",\"\",\"\",\"\",\"\",\"\",\"\",\"\",\"\",\"\",\"\",\"\",\"\",\"\",\"\",\"\",\"\",\"\",\"\",\"\",\"\",\"\",\"\",\"\",\"\",\"\",\"\",\"\",\"\",\"\",\"\",\"\",\"\",\"\",\"\",\"\",\"\",\"\",\"\",\"\",\"\",\"\",\"\",\"\",\"\",\"\",\"\",\"\",\"\",\"\",\"\",\"\",\"\",\"\",\"\",\"\",\"\",\"\",\"\",\"\",\"\",\"\",\"\",\"\",\"\",\"\",\"\",\"\",\"\",\"\",\"\",\"\",\"\",\"\",\"\",\"\",\"\",\"\",\"\",\"\",\"\",\"\",\"\",\"\",\"\",\"\",\"\",\"\",\"\",\"\",\"\",\"\",\"\",\"\",\"\",\"\",\"\",\"\",\"\",\"\"],\"values\":[109980460.0,279486787.0,228881370.0,2378178.0,371400819.0,702483.0,6414875.0,18678951288.0,32797522.0,38528732.0,9733091438.0,596758436.0,2236909006.0,6983077.0,777473760.0,13087912310.0,73177558.0,188291176.0,5762414960.0,19803826.0,24246282.0,3919460.0,44324574.0,2228306009.0,43236.0,13550064.0,23805892.0,77434683256.0,1019142.0,61803429.0,182871666.0,18077509.0,127309.0,6971897941.0,25244845.0,18228200647.0,16315132.0,8256041.0,9806448.0,6978549.0,11769443984.0,48587024000.0,8209707262.0,9521198.0,10326657.0,444497.0,265381902.0,130089016.0,867407829.0,6317083017.0,51697419.0,163692379.0,4168644067.0,10661974.0,3032063883.0,1788221.0,3147969.0,3554281293.0,6187503271.0,1768493637.0,860011938.0,31037114023.0,23238018.0,487453125.0,10335679.0,140685906.0,8612023.0,8729.0,41410440.0,460273329.0,32177027974.0,10743345.0,6363193.0,6323968.0,369773868.0,38982830332.0,87767731.0,17354638.0,4448539614.0,6163497.0,3013719.0,1953622873.0,342673.0,202891557.0,12365315.0,58146585.0,4984429.0,150511882.0,2676377359.0,776459796.0,50367320.0,323342119648.0,45213625127.0,10694339403.0,481181096.0,2468578495.0,26865518.0,5743375433.0,29712702055.0,184985059.0,29277954926.0,13560674.0,1183884194.0,3585414930.0,1314467671.0,1003437.0,280703911.0,176504396.0,366790870.0,302507172.0,623486523.0,969098687.0,5836071.0,6024313.0,195094470.0,16361077.0,1113683787.0,3757692.0,148628961.0,11987504.0,252841221.0,13297513692.0,177223906.0,26699633.0,297290749.0,67358978.0,43027571.0,28347806504.0,48350343.0,864904.0,1073839332.0,139364311.0,95256.0,4837219083.0,409985072.0,1059134989.0,26994392.0,95946.0,2380437379.0,1116426891.0,11616439.0,1834291113.0,177904245.0,20283849.0,676623277.0,10357.0,126621089.0,6072790.0,953157405.0,2560975120.0,133254134.0,14886575976.0,33934570.0,242567656.0,9710227.0,402096080.0,10520125027.0,932305161.0,254.0,11035885465.0,2034675724.0,392631900.0,1544445383.0,26755289790.0,165917035.0,17719.0,2676784.0,12367398.0,3900838.0,4935444.0,1796538.0,2509356.0,10391703030.0,2995364072.0,44804589.0,1087724534.0,8048151.0,16174881.0,3164194477.0,2096270.0,254636075.0,736698744.0,4847306.0,31312352.0,3837851724.0,21831406035.0,5907619.0,13675279335.0,6543990962.0,41531132.0,69143426.0,741235101.0,3695330150.0,32238585.0,5574103726.0,158315672.0,22839948.0,20018259276.0,31337328.0,40078281.0,1936.0,1943138.0,316171933.0,2031063035.0,33873363514.0,15213698.0,1016487.0,41956.0,135988396.0,4357247435.0,2252853848.0,36851641768.0,155013867208.0,1973340264.0,665459268.0,2167907.0,417488184.0,7352751366.0,1810193186.0,336241.0,9250675.0,26986225.0,1588198276.0],\"type\":\"treemap\"}],                        {\"template\":{\"data\":{\"bar\":[{\"error_x\":{\"color\":\"#2a3f5f\"},\"error_y\":{\"color\":\"#2a3f5f\"},\"marker\":{\"line\":{\"color\":\"#E5ECF6\",\"width\":0.5},\"pattern\":{\"fillmode\":\"overlay\",\"size\":10,\"solidity\":0.2}},\"type\":\"bar\"}],\"barpolar\":[{\"marker\":{\"line\":{\"color\":\"#E5ECF6\",\"width\":0.5},\"pattern\":{\"fillmode\":\"overlay\",\"size\":10,\"solidity\":0.2}},\"type\":\"barpolar\"}],\"carpet\":[{\"aaxis\":{\"endlinecolor\":\"#2a3f5f\",\"gridcolor\":\"white\",\"linecolor\":\"white\",\"minorgridcolor\":\"white\",\"startlinecolor\":\"#2a3f5f\"},\"baxis\":{\"endlinecolor\":\"#2a3f5f\",\"gridcolor\":\"white\",\"linecolor\":\"white\",\"minorgridcolor\":\"white\",\"startlinecolor\":\"#2a3f5f\"},\"type\":\"carpet\"}],\"choropleth\":[{\"colorbar\":{\"outlinewidth\":0,\"ticks\":\"\"},\"type\":\"choropleth\"}],\"contour\":[{\"colorbar\":{\"outlinewidth\":0,\"ticks\":\"\"},\"colorscale\":[[0.0,\"#0d0887\"],[0.1111111111111111,\"#46039f\"],[0.2222222222222222,\"#7201a8\"],[0.3333333333333333,\"#9c179e\"],[0.4444444444444444,\"#bd3786\"],[0.5555555555555556,\"#d8576b\"],[0.6666666666666666,\"#ed7953\"],[0.7777777777777778,\"#fb9f3a\"],[0.8888888888888888,\"#fdca26\"],[1.0,\"#f0f921\"]],\"type\":\"contour\"}],\"contourcarpet\":[{\"colorbar\":{\"outlinewidth\":0,\"ticks\":\"\"},\"type\":\"contourcarpet\"}],\"heatmap\":[{\"colorbar\":{\"outlinewidth\":0,\"ticks\":\"\"},\"colorscale\":[[0.0,\"#0d0887\"],[0.1111111111111111,\"#46039f\"],[0.2222222222222222,\"#7201a8\"],[0.3333333333333333,\"#9c179e\"],[0.4444444444444444,\"#bd3786\"],[0.5555555555555556,\"#d8576b\"],[0.6666666666666666,\"#ed7953\"],[0.7777777777777778,\"#fb9f3a\"],[0.8888888888888888,\"#fdca26\"],[1.0,\"#f0f921\"]],\"type\":\"heatmap\"}],\"heatmapgl\":[{\"colorbar\":{\"outlinewidth\":0,\"ticks\":\"\"},\"colorscale\":[[0.0,\"#0d0887\"],[0.1111111111111111,\"#46039f\"],[0.2222222222222222,\"#7201a8\"],[0.3333333333333333,\"#9c179e\"],[0.4444444444444444,\"#bd3786\"],[0.5555555555555556,\"#d8576b\"],[0.6666666666666666,\"#ed7953\"],[0.7777777777777778,\"#fb9f3a\"],[0.8888888888888888,\"#fdca26\"],[1.0,\"#f0f921\"]],\"type\":\"heatmapgl\"}],\"histogram\":[{\"marker\":{\"pattern\":{\"fillmode\":\"overlay\",\"size\":10,\"solidity\":0.2}},\"type\":\"histogram\"}],\"histogram2d\":[{\"colorbar\":{\"outlinewidth\":0,\"ticks\":\"\"},\"colorscale\":[[0.0,\"#0d0887\"],[0.1111111111111111,\"#46039f\"],[0.2222222222222222,\"#7201a8\"],[0.3333333333333333,\"#9c179e\"],[0.4444444444444444,\"#bd3786\"],[0.5555555555555556,\"#d8576b\"],[0.6666666666666666,\"#ed7953\"],[0.7777777777777778,\"#fb9f3a\"],[0.8888888888888888,\"#fdca26\"],[1.0,\"#f0f921\"]],\"type\":\"histogram2d\"}],\"histogram2dcontour\":[{\"colorbar\":{\"outlinewidth\":0,\"ticks\":\"\"},\"colorscale\":[[0.0,\"#0d0887\"],[0.1111111111111111,\"#46039f\"],[0.2222222222222222,\"#7201a8\"],[0.3333333333333333,\"#9c179e\"],[0.4444444444444444,\"#bd3786\"],[0.5555555555555556,\"#d8576b\"],[0.6666666666666666,\"#ed7953\"],[0.7777777777777778,\"#fb9f3a\"],[0.8888888888888888,\"#fdca26\"],[1.0,\"#f0f921\"]],\"type\":\"histogram2dcontour\"}],\"mesh3d\":[{\"colorbar\":{\"outlinewidth\":0,\"ticks\":\"\"},\"type\":\"mesh3d\"}],\"parcoords\":[{\"line\":{\"colorbar\":{\"outlinewidth\":0,\"ticks\":\"\"}},\"type\":\"parcoords\"}],\"pie\":[{\"automargin\":true,\"type\":\"pie\"}],\"scatter\":[{\"marker\":{\"colorbar\":{\"outlinewidth\":0,\"ticks\":\"\"}},\"type\":\"scatter\"}],\"scatter3d\":[{\"line\":{\"colorbar\":{\"outlinewidth\":0,\"ticks\":\"\"}},\"marker\":{\"colorbar\":{\"outlinewidth\":0,\"ticks\":\"\"}},\"type\":\"scatter3d\"}],\"scattercarpet\":[{\"marker\":{\"colorbar\":{\"outlinewidth\":0,\"ticks\":\"\"}},\"type\":\"scattercarpet\"}],\"scattergeo\":[{\"marker\":{\"colorbar\":{\"outlinewidth\":0,\"ticks\":\"\"}},\"type\":\"scattergeo\"}],\"scattergl\":[{\"marker\":{\"colorbar\":{\"outlinewidth\":0,\"ticks\":\"\"}},\"type\":\"scattergl\"}],\"scattermapbox\":[{\"marker\":{\"colorbar\":{\"outlinewidth\":0,\"ticks\":\"\"}},\"type\":\"scattermapbox\"}],\"scatterpolar\":[{\"marker\":{\"colorbar\":{\"outlinewidth\":0,\"ticks\":\"\"}},\"type\":\"scatterpolar\"}],\"scatterpolargl\":[{\"marker\":{\"colorbar\":{\"outlinewidth\":0,\"ticks\":\"\"}},\"type\":\"scatterpolargl\"}],\"scatterternary\":[{\"marker\":{\"colorbar\":{\"outlinewidth\":0,\"ticks\":\"\"}},\"type\":\"scatterternary\"}],\"surface\":[{\"colorbar\":{\"outlinewidth\":0,\"ticks\":\"\"},\"colorscale\":[[0.0,\"#0d0887\"],[0.1111111111111111,\"#46039f\"],[0.2222222222222222,\"#7201a8\"],[0.3333333333333333,\"#9c179e\"],[0.4444444444444444,\"#bd3786\"],[0.5555555555555556,\"#d8576b\"],[0.6666666666666666,\"#ed7953\"],[0.7777777777777778,\"#fb9f3a\"],[0.8888888888888888,\"#fdca26\"],[1.0,\"#f0f921\"]],\"type\":\"surface\"}],\"table\":[{\"cells\":{\"fill\":{\"color\":\"#EBF0F8\"},\"line\":{\"color\":\"white\"}},\"header\":{\"fill\":{\"color\":\"#C8D4E3\"},\"line\":{\"color\":\"white\"}},\"type\":\"table\"}]},\"layout\":{\"annotationdefaults\":{\"arrowcolor\":\"#2a3f5f\",\"arrowhead\":0,\"arrowwidth\":1},\"autotypenumbers\":\"strict\",\"coloraxis\":{\"colorbar\":{\"outlinewidth\":0,\"ticks\":\"\"}},\"colorscale\":{\"diverging\":[[0,\"#8e0152\"],[0.1,\"#c51b7d\"],[0.2,\"#de77ae\"],[0.3,\"#f1b6da\"],[0.4,\"#fde0ef\"],[0.5,\"#f7f7f7\"],[0.6,\"#e6f5d0\"],[0.7,\"#b8e186\"],[0.8,\"#7fbc41\"],[0.9,\"#4d9221\"],[1,\"#276419\"]],\"sequential\":[[0.0,\"#0d0887\"],[0.1111111111111111,\"#46039f\"],[0.2222222222222222,\"#7201a8\"],[0.3333333333333333,\"#9c179e\"],[0.4444444444444444,\"#bd3786\"],[0.5555555555555556,\"#d8576b\"],[0.6666666666666666,\"#ed7953\"],[0.7777777777777778,\"#fb9f3a\"],[0.8888888888888888,\"#fdca26\"],[1.0,\"#f0f921\"]],\"sequentialminus\":[[0.0,\"#0d0887\"],[0.1111111111111111,\"#46039f\"],[0.2222222222222222,\"#7201a8\"],[0.3333333333333333,\"#9c179e\"],[0.4444444444444444,\"#bd3786\"],[0.5555555555555556,\"#d8576b\"],[0.6666666666666666,\"#ed7953\"],[0.7777777777777778,\"#fb9f3a\"],[0.8888888888888888,\"#fdca26\"],[1.0,\"#f0f921\"]]},\"colorway\":[\"#636efa\",\"#EF553B\",\"#00cc96\",\"#ab63fa\",\"#FFA15A\",\"#19d3f3\",\"#FF6692\",\"#B6E880\",\"#FF97FF\",\"#FECB52\"],\"font\":{\"color\":\"#2a3f5f\"},\"geo\":{\"bgcolor\":\"white\",\"lakecolor\":\"white\",\"landcolor\":\"#E5ECF6\",\"showlakes\":true,\"showland\":true,\"subunitcolor\":\"white\"},\"hoverlabel\":{\"align\":\"left\"},\"hovermode\":\"closest\",\"mapbox\":{\"style\":\"light\"},\"paper_bgcolor\":\"white\",\"plot_bgcolor\":\"#E5ECF6\",\"polar\":{\"angularaxis\":{\"gridcolor\":\"white\",\"linecolor\":\"white\",\"ticks\":\"\"},\"bgcolor\":\"#E5ECF6\",\"radialaxis\":{\"gridcolor\":\"white\",\"linecolor\":\"white\",\"ticks\":\"\"}},\"scene\":{\"xaxis\":{\"backgroundcolor\":\"#E5ECF6\",\"gridcolor\":\"white\",\"gridwidth\":2,\"linecolor\":\"white\",\"showbackground\":true,\"ticks\":\"\",\"zerolinecolor\":\"white\"},\"yaxis\":{\"backgroundcolor\":\"#E5ECF6\",\"gridcolor\":\"white\",\"gridwidth\":2,\"linecolor\":\"white\",\"showbackground\":true,\"ticks\":\"\",\"zerolinecolor\":\"white\"},\"zaxis\":{\"backgroundcolor\":\"#E5ECF6\",\"gridcolor\":\"white\",\"gridwidth\":2,\"linecolor\":\"white\",\"showbackground\":true,\"ticks\":\"\",\"zerolinecolor\":\"white\"}},\"shapedefaults\":{\"line\":{\"color\":\"#2a3f5f\"}},\"ternary\":{\"aaxis\":{\"gridcolor\":\"white\",\"linecolor\":\"white\",\"ticks\":\"\"},\"baxis\":{\"gridcolor\":\"white\",\"linecolor\":\"white\",\"ticks\":\"\"},\"bgcolor\":\"#E5ECF6\",\"caxis\":{\"gridcolor\":\"white\",\"linecolor\":\"white\",\"ticks\":\"\"}},\"title\":{\"x\":0.05},\"xaxis\":{\"automargin\":true,\"gridcolor\":\"white\",\"linecolor\":\"white\",\"ticks\":\"\",\"title\":{\"standoff\":15},\"zerolinecolor\":\"white\",\"zerolinewidth\":2},\"yaxis\":{\"automargin\":true,\"gridcolor\":\"white\",\"linecolor\":\"white\",\"ticks\":\"\",\"title\":{\"standoff\":15},\"zerolinecolor\":\"white\",\"zerolinewidth\":2}}},\"coloraxis\":{\"colorbar\":{\"title\":{\"text\":\"total_vaccinations\"}},\"colorscale\":[[0.0,\"rgb(247,251,255)\"],[0.125,\"rgb(222,235,247)\"],[0.25,\"rgb(198,219,239)\"],[0.375,\"rgb(158,202,225)\"],[0.5,\"rgb(107,174,214)\"],[0.625,\"rgb(66,146,198)\"],[0.75,\"rgb(33,113,181)\"],[0.875,\"rgb(8,81,156)\"],[1.0,\"rgb(8,48,107)\"]]},\"legend\":{\"tracegroupgap\":0},\"title\":{\"text\":\"Total Vaccinations by Country (Treemap)\"}},                        {\"responsive\": true}                    ).then(function(){\n",
       "                            \n",
       "var gd = document.getElementById('c7f70fe6-702e-4e73-a906-d9e35b4d53bd');\n",
       "var x = new MutationObserver(function (mutations, observer) {{\n",
       "        var display = window.getComputedStyle(gd).display;\n",
       "        if (!display || display === 'none') {{\n",
       "            console.log([gd, 'removed!']);\n",
       "            Plotly.purge(gd);\n",
       "            observer.disconnect();\n",
       "        }}\n",
       "}});\n",
       "\n",
       "// Listen for the removal of the full notebook cells\n",
       "var notebookContainer = gd.closest('#notebook-container');\n",
       "if (notebookContainer) {{\n",
       "    x.observe(notebookContainer, {childList: true});\n",
       "}}\n",
       "\n",
       "// Listen for the clearing of the current output cell\n",
       "var outputEl = gd.closest('.output');\n",
       "if (outputEl) {{\n",
       "    x.observe(outputEl, {childList: true});\n",
       "}}\n",
       "\n",
       "                        })                };                });            </script>        </div>"
      ]
     },
     "metadata": {},
     "output_type": "display_data"
    }
   ],
   "source": [
    "# Importing plotly to visualise using Treemap, since the above visualisations don't provide clarity\n",
    "import plotly.express as px\n",
    "\n",
    "fig = px.treemap(df_summary, path=['country'], values='total_vaccinations',\n",
    "                  title='Total Vaccinations by Country (Treemap)',\n",
    "                  color='total_vaccinations',\n",
    "                  color_continuous_scale='Blues')\n",
    "fig.show()\n"
   ]
  },
  {
   "cell_type": "code",
   "execution_count": 86,
   "id": "37c052f3",
   "metadata": {},
   "outputs": [
    {
     "data": {
      "image/png": "[encoded data removed]",
      "text/plain": [
       "<Figure size 720x432 with 1 Axes>"
      ]
     },
     "metadata": {
      "needs_background": "light"
     },
     "output_type": "display_data"
    }
   ],
   "source": [
    "# Bivariate analysis - Scatter plot\n",
    "plt.figure(figsize=(10, 6))\n",
    "plt.scatter(df_summary['people_vaccinated'], df_summary['people_fully_vaccinated'])\n",
    "plt.xlabel('People Vaccinated')\n",
    "plt.ylabel('People Fully Vaccinated')\n",
    "plt.title('Bivariate Analysis: People Vaccinated vs. People Fully Vaccinated')\n",
    "plt.show()"
   ]
  },
  {
   "cell_type": "code",
   "execution_count": 87,
   "id": "0205a5a2",
   "metadata": {},
   "outputs": [
    {
     "name": "stdout",
     "output_type": "stream",
     "text": [
      "Challenges to be Addressed:\n",
      "=====\n",
      "1. Noisy Data: The dataset may contain errors, inconsistencies, and missing values.\n",
      "2. Data Completeness: Different countries have varying levels of reporting accuracy, leading to incomplete data entries.\n",
      "\n",
      "\n",
      "Summary Statistics:\n",
      "=\n",
      "Total number of vaccinations worldwide: 2002854013761.0\n",
      "Total number of people vaccinated worldwide: 731113482252.0\n",
      "Total number of people fully vaccinated worldwide: 548594310708.0\n",
      "\n",
      "\n"
     ]
    }
   ],
   "source": [
    "# Identifiying key challenges and its description\n",
    "print(\"Challenges to be Addressed:\")\n",
    "print(\"=====\")\n",
    "print(\"1. Noisy Data: The dataset may contain errors, inconsistencies, and missing values.\")\n",
    "print(\"2. Data Completeness: Different countries have varying levels of reporting accuracy, leading to incomplete data entries.\")\n",
    "print(\"\\n\")\n",
    "\n",
    "# Summarising through statistics\n",
    "print(\"Summary Statistics:\")\n",
    "print(\"=\")\n",
    "total_vaccinations = df_vaccinations['total_vaccinations'].sum()\n",
    "people_vaccinated = df_vaccinations['people_vaccinated'].sum()\n",
    "people_fully_vaccinated = df_vaccinations['people_fully_vaccinated'].sum()\n",
    "print(\"Total number of vaccinations worldwide:\", total_vaccinations)\n",
    "print(\"Total number of people vaccinated worldwide:\", people_vaccinated)\n",
    "print(\"Total number of people fully vaccinated worldwide:\", people_fully_vaccinated)\n",
    "print(\"\\n\")"
   ]
  },
  {
   "cell_type": "code",
   "execution_count": 88,
   "id": "5d29976f",
   "metadata": {},
   "outputs": [
    {
     "data": {
      "image/png": "[encoded data removed]",
      "text/plain": [
       "<Figure size 720x432 with 1 Axes>"
      ]
     },
     "metadata": {
      "needs_background": "light"
     },
     "output_type": "display_data"
    }
   ],
   "source": [
    "# Visualising Summary Statistics through Bar graph - \n",
    "statistics = ['Total Vaccinations', 'People Vaccinated', 'People Fully Vaccinated']\n",
    "counts = [total_vaccinations, people_vaccinated, people_fully_vaccinated]\n",
    "plt.figure(figsize=(10, 6))\n",
    "plt.bar(statistics, counts)\n",
    "plt.xlabel('Statistics')\n",
    "plt.ylabel('Counts')\n",
    "plt.title('Summary Statistics of Global Vaccination Progress')\n",
    "plt.show()"
   ]
  },
  {
   "cell_type": "code",
   "execution_count": 89,
   "id": "773e2536",
   "metadata": {},
   "outputs": [
    {
     "data": {
      "image/png": "[encoded data removed]",
      "text/plain": [
       "<Figure size 720x432 with 1 Axes>"
      ]
     },
     "metadata": {},
     "output_type": "display_data"
    }
   ],
   "source": [
    "# Pie chart - Summary Statistics\n",
    "plt.figure(figsize=(10, 6))\n",
    "plt.pie(counts, labels=statistics, autopct='%1.1f%%')\n",
    "plt.title('Summary Statistics of Global Vaccination Progress (Pie Chart)')\n",
    "plt.show()"
   ]
  },
  {
   "cell_type": "code",
   "execution_count": 90,
   "id": "42278d2d",
   "metadata": {},
   "outputs": [
    {
     "name": "stdout",
     "output_type": "stream",
     "text": [
      "Unsupervised Analysis - K-means Clustering:\n",
      "=\n"
     ]
    },
    {
     "data": {
      "image/png": "[encoded data removed]",
      "text/plain": [
       "<Figure size 432x288 with 1 Axes>"
      ]
     },
     "metadata": {
      "needs_background": "light"
     },
     "output_type": "display_data"
    },
    {
     "name": "stdout",
     "output_type": "stream",
     "text": [
      "Head of 'country_vaccinations.csv' dataset with clusters:\n",
      "===========================================\n",
      "    people_vaccinated  people_fully_vaccinated  cluster\n",
      "78           448878.0                  55624.0        0\n",
      "87           470341.0                  77560.0        0\n",
      "91           476367.0                  96910.0        0\n",
      "93           479372.0                 111082.0        0\n",
      "94           479574.0                 113739.0        0\n",
      "\n",
      "\n",
      "Correlation Heatmap:\n",
      "=\n"
     ]
    },
    {
     "data": {
      "image/png": "[encoded data removed]",
      "text/plain": [
       "<Figure size 720x576 with 2 Axes>"
      ]
     },
     "metadata": {
      "needs_background": "light"
     },
     "output_type": "display_data"
    }
   ],
   "source": [
    "# Performing unsupervised analysis through K-means clustering\n",
    "print(\"Unsupervised Analysis - K-means Clustering:\")\n",
    "print(\"=\")\n",
    "df_cluster = df_vaccinations[['people_vaccinated', 'people_fully_vaccinated']].dropna()\n",
    "X = df_cluster.values\n",
    "kmeans = KMeans(n_clusters=3, random_state=0)\n",
    "kmeans.fit(X)\n",
    "df_cluster['cluster'] = kmeans.labels_\n",
    "\n",
    "# Visualizations, first through scatter plot with clusters\n",
    "plt.scatter(df_cluster['people_vaccinated'], df_cluster['people_fully_vaccinated'], c=df_cluster['cluster'], cmap='viridis')\n",
    "plt.xlabel('People Vaccinated')\n",
    "plt.ylabel('People Fully Vaccinated')\n",
    "plt.title('K-means Clustering of Vaccination Progress')\n",
    "plt.show()\n",
    "\n",
    "print(\"Head of 'country_vaccinations.csv' dataset with clusters:\")\n",
    "print(\"===========================================\")\n",
    "print(df_cluster.head())\n",
    "print(\"\\n\")\n",
    "\n",
    "# Visualization with a correlation heatmap\n",
    "print(\"Correlation Heatmap:\")\n",
    "print(\"=\")\n",
    "plt.figure(figsize=(10, 8))\n",
    "sns.heatmap(df_vaccinations.corr(), annot=True, cmap='coolwarm')\n",
    "plt.title('Correlation Heatmap')\n",
    "plt.show()"
   ]
  },
  {
   "cell_type": "code",
   "execution_count": 91,
   "id": "5b688104",
   "metadata": {},
   "outputs": [
    {
     "name": "stdout",
     "output_type": "stream",
     "text": [
      "Supervised Analysis - Linear Regression:\n",
      "=\n"
     ]
    },
    {
     "data": {
      "image/png": "[encoded data removed]",
      "text/plain": [
       "<Figure size 432x288 with 1 Axes>"
      ]
     },
     "metadata": {
      "needs_background": "light"
     },
     "output_type": "display_data"
    },
    {
     "name": "stdout",
     "output_type": "stream",
     "text": [
      "Coefficients: [ -4.36511452 137.02072325]\n",
      "Intercept: 18412684.129690953\n",
      "\n",
      "\n"
     ]
    }
   ],
   "source": [
    "# Moving on to supervised analysis by conducting Linear regression\n",
    "print(\"Supervised Analysis - Linear Regression:\")\n",
    "print(\"=\")\n",
    "df_regression = df_vaccinations.merge(df_manufacturer, left_on=['country', 'date'], right_on=['location', 'date'], how='inner').dropna(subset=['daily_vaccinations_raw', 'daily_vaccinations'])\n",
    "X_reg = df_regression[['daily_vaccinations_raw', 'daily_vaccinations']]\n",
    "y_reg = df_regression['total_vaccinations_x']\n",
    "regression_model = LinearRegression()\n",
    "regression_model.fit(X_reg, y_reg)\n",
    "\n",
    "# Visualization with scatter plot with regression line\n",
    "plt.scatter(X_reg['daily_vaccinations_raw'], y_reg)\n",
    "plt.plot(X_reg['daily_vaccinations_raw'], regression_model.predict(X_reg), color='red')\n",
    "plt.xlabel('Daily Vaccinations (Raw)')\n",
    "plt.ylabel('Total Vaccinations')\n",
    "plt.title('Linear Regression of Daily Vaccinations vs. Total Vaccinations')\n",
    "plt.show()\n",
    "\n",
    "print(\"Coefficients:\", regression_model.coef_)\n",
    "print(\"Intercept:\", regression_model.intercept_)\n",
    "print(\"\\n\")"
   ]
  },
  {
   "cell_type": "code",
   "execution_count": 92,
   "id": "d0d6cf66",
   "metadata": {},
   "outputs": [
    {
     "name": "stdout",
     "output_type": "stream",
     "text": [
      "Reflection on Methods Used:\n",
      "-\n",
      "The summary statistics provided a snapshot of the global vaccination progress.\n",
      "K-means clustering helped identify clusters of countries with similar vaccination patterns, offering insights into successful vaccination campaigns and potential challenges.\n",
      "Linear regression allowed us to analyze the relationship between daily vaccination numbers and overall vaccination progress, providing insights into the effectiveness of vaccination efforts.\n",
      "\n",
      "\n"
     ]
    }
   ],
   "source": [
    "# Final reflections on methodology\n",
    "print(\"Reflection on Methods Used:\")\n",
    "print(\"-\")\n",
    "print(\"The summary statistics provided a snapshot of the global vaccination progress.\")\n",
    "print(\"K-means clustering helped identify clusters of countries with similar vaccination patterns, offering insights into successful vaccination campaigns and potential challenges.\")\n",
    "print(\"Linear regression allowed us to analyze the relationship between daily vaccination numbers and overall vaccination progress, providing insights into the effectiveness of vaccination efforts.\")\n",
    "print(\"\\n\")"
   ]
  },
  {
   "cell_type": "code",
   "execution_count": 93,
   "id": "e9f677f4",
   "metadata": {},
   "outputs": [
    {
     "name": "stdout",
     "output_type": "stream",
     "text": [
      "\n",
      "Numeric Results:\n",
      "========\n",
      "Total Vaccinations Worldwide: 2002854013761.0\n",
      "Total People Vaccinated Worldwide: 731113482252.0\n",
      "Total People Fully Vaccinated Worldwide: 548594310708.0\n",
      "Linear Regression Coefficients: [ -4.36511452 137.02072325]\n",
      "Linear Regression Intercept: 18412684.129690953\n"
     ]
    }
   ],
   "source": [
    "#Summarised Results\n",
    "numeric_results = {\n",
    "    \"Total Vaccinations Worldwide\": total_vaccinations,\n",
    "    \"Total People Vaccinated Worldwide\": people_vaccinated,\n",
    "    \"Total People Fully Vaccinated Worldwide\": people_fully_vaccinated,\n",
    "    \"Linear Regression Coefficients\": regression_model.coef_,\n",
    "    \"Linear Regression Intercept\": regression_model.intercept_\n",
    "}\n",
    "\n",
    "print(\"\\nNumeric Results:\")\n",
    "print(\"========\")\n",
    "for key, value in numeric_results.items():\n",
    "    print(key + \":\", value)"
   ]
  },
  {
   "cell_type": "code",
   "execution_count": 94,
   "id": "4bf14bd3",
   "metadata": {},
   "outputs": [
    {
     "name": "stdout",
     "output_type": "stream",
     "text": [
      "References:\n",
      "-------\n",
      "COVID-19 World Vaccination Progress Dataset. Retrieved from Kaggle: https://www.kaggle.com/gpreda/covid-world-vaccination-progress\n"
     ]
    }
   ],
   "source": [
    "# References \n",
    "print(\"References:\")\n",
    "print(\"-------\")\n",
    "print(\"COVID-19 World Vaccination Progress Dataset. Retrieved from Kaggle: https://www.kaggle.com/gpreda/covid-world-vaccination-progress\")"
   ]
  },
  {
   "cell_type": "code",
   "execution_count": null,
   "id": "d85958ed",
   "metadata": {},
   "outputs": [],
   "source": []
  },
  {
   "cell_type": "code",
   "execution_count": null,
   "id": "e980d071",
   "metadata": {},
   "outputs": [],
   "source": []
  },
  {
   "cell_type": "code",
   "execution_count": null,
   "id": "56bc7f62",
   "metadata": {},
   "outputs": [],
   "source": []
  }
 ],
 "metadata": {
  "kernelspec": {
   "display_name": "Python 3 (ipykernel)",
   "language": "python",
   "name": "python3"
  },
  "language_info": {
   "codemirror_mode": {
    "name": "ipython",
    "version": 3
   },
   "file_extension": ".py",
   "mimetype": "text/x-python",
   "name": "python",
   "nbconvert_exporter": "python",
   "pygments_lexer": "ipython3",
   "version": "3.9.12"
  }
 },
 "nbformat": 4,
 "nbformat_minor": 5
}
